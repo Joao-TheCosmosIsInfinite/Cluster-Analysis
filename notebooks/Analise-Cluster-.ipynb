{
 "cells": [
  {
   "cell_type": "markdown",
   "id": "7265d7fb",
   "metadata": {},
   "source": [
    "<h1>Análise para identificação de perfis de clientes de uma rede de e-commerce</h1>\n",
    "<p><b>Instituição:</b> USP ESALQ</p>\n",
    "<p><b>Ano</b>: 2023</p>\n",
    "<p><b>Autor:</b> João Paulo Ribeiro dos Santos</p>\n",
    "<p><b>Localização Projeto: </b> <a href = 'https://github.com/Joao-TheCosmosIsInfinite/Cluster-Analysis' target = \"_blank\">Git Hub</a></p>"
   ]
  },
  {
   "cell_type": "markdown",
   "id": "98b077d8",
   "metadata": {},
   "source": [
    "[1. Bibliotecas/ Libs](#1)<br>\n",
    "[2. Carregar Dados](#2)<br>\n",
    "&nbsp;&nbsp;&nbsp;&nbsp;[2.1. Analise Pre-liminar](#21)<br>\n",
    "&nbsp;&nbsp;&nbsp;&nbsp;[2.2. Relacionamento das Bases](#22)<br>\n",
    "&nbsp;&nbsp;&nbsp;&nbsp;[2.3. Dicionário dos Dados](#23)<br>\n",
    "[3. Informação dos dataframes](#3)<br>\n",
    "&nbsp;&nbsp;&nbsp;&nbsp;[3.1. Dimensão](#31)<br>\n",
    "&nbsp;&nbsp;&nbsp;&nbsp;[3.2. Dados Generalistas](#31)<br>"
   ]
  },
  {
   "cell_type": "markdown",
   "id": "4d59baf1",
   "metadata": {},
   "source": [
    "%pip install nb-mermaid\n"
   ]
  },
  {
   "cell_type": "markdown",
   "id": "670e92ba",
   "metadata": {},
   "source": [
    "%%html\n",
    "<script src=\"//cdn.rawgit.com/bollwyvl/53e64cdafba38461943b/raw/0815758d591dfaf0f4918b388aed1bf11d82160d/mermaid.full.js\"></script>\n",
    "<style>\n",
    "    .mermaid *{font-family: sans-serif; }\n",
    "    .mermaid .node, .mermaid .cluster{\n",
    "      fill: white !important;\n",
    "      stroke: black !important;\n",
    "      stroke-width: 1px !important;\n",
    "    }\n",
    "    .mermaid div{\n",
    "      text-align: center;\n",
    "    }\n",
    "    .mermaid .label{\n",
    "      color: black;\n",
    "    }\n",
    "</style>\n",
    "<script>$(function(){\n",
    "    // mermaid load a touch weirdly: try immediately, but try again later if it's not available\n",
    "    var initMermaid = function(){\n",
    "        return (window.mermaid && mermaid.init()) || setTimeout(initMermaid, 50);         \n",
    "    }\n",
    "    initMermaid();\n",
    "\n",
    "    // for live editing, re-render only the text of the current cell\n",
    "    window.IPython && $(IPython.events).on(\"rendered.MarkdownCell\", function(evt, data){\n",
    "        // this is using a hacked mermaid that accepts some nodes!\n",
    "        mermaid.init(undefined, data.cell.element.find(\".mermaid\"));\n",
    "    });\n",
    "});</script>"
   ]
  },
  {
   "cell_type": "markdown",
   "id": "16dc38fb",
   "metadata": {},
   "source": [
    "<a id ='1'></a>\n",
    "<h3>1. Bibliotecas/ Libs</h3>"
   ]
  },
  {
   "cell_type": "code",
   "execution_count": 1,
   "id": "1837b7ae",
   "metadata": {},
   "outputs": [],
   "source": [
    "## Bibliotecas para análise inicial\n",
    "import pandas as pd\n",
    "import numpy as np\n",
    "import matplotlib.pyplot as plt\n",
    "import seaborn as sns\n",
    "%matplotlib inline\n",
    "import sys\n",
    "import os\n",
    "\n",
    "## Utilidades\n",
    "sys.path.append(os.path.abspath(os.path.join('..')))\n",
    "from _functions import funcoes_data_viz"
   ]
  },
  {
   "cell_type": "code",
   "execution_count": 2,
   "id": "4454427e",
   "metadata": {},
   "outputs": [],
   "source": [
    "## Definir numero maximo de linhas para visualizar\n",
    "pd.set_option('display.max_rows', 200)\n",
    "\n",
    "## Definir numero maximo de linhas para visualizar\n",
    "pd.set_option('display.max_columns', 50)"
   ]
  },
  {
   "cell_type": "markdown",
   "id": "b6976b62",
   "metadata": {},
   "source": [
    "<a id ='2'></a>\n",
    "<h3>2. Carregar Dados</h3>"
   ]
  },
  {
   "cell_type": "code",
   "execution_count": 3,
   "id": "d824bc05",
   "metadata": {},
   "outputs": [],
   "source": [
    "## Localização dos dados\n",
    "path = os.path.abspath(os.path.join('..'))\n",
    "\n",
    "## Objetos/ DataFrames\n",
    "\n",
    "# Cliente\n",
    "df_customers = pd.read_csv(path + '/output/olist_customers_dataset.csv')\n",
    "# Itens de Pedido\n",
    "df_order_items = pd.read_csv(path + '/output/olist_order_items_dataset.csv')\n",
    "# Pagamentos de Pedido\n",
    "df_order_payments = pd.read_csv(path + '/output/olist_order_payments_dataset.csv')\n",
    "# Pedido\n",
    "df_orders = pd.read_csv(path + '/output/olist_orders_dataset.csv')\n",
    "# Produtos\n",
    "df_products = pd.read_csv(path + '/output/olist_products_dataset.csv')\n",
    "# Vendedores\n",
    "df_sellers = pd.read_csv(path + '/output/olist_sellers_dataset.csv')"
   ]
  },
  {
   "cell_type": "markdown",
   "id": "e97b5a95",
   "metadata": {},
   "source": [
    "<a id ='21'></a>\n",
    "<h4>2.1. Relacionamento das bases</h4>"
   ]
  },
  {
   "cell_type": "markdown",
   "id": "431d1433",
   "metadata": {},
   "source": [
    "Relacionamento das tabelas/ datasets"
   ]
  },
  {
   "cell_type": "markdown",
   "id": "66e0c017",
   "metadata": {},
   "source": [
    "<img src='../img/table_relation.png' width=\"1000\" height=\"1000\">"
   ]
  },
  {
   "cell_type": "markdown",
   "id": "ea01c3fd",
   "metadata": {},
   "source": [
    "<a id ='22'></a>\n",
    "<h4>2.2. Dicionário dos dados</h4>"
   ]
  },
  {
   "cell_type": "markdown",
   "id": "e5030589",
   "metadata": {},
   "source": [
    "<h3>Customer</h3>\n",
    "<table>\n",
    "    <tr><th>Campo</th><th>Descrição</th><th>Tipo de Variável</th></tr>\n",
    "    <tr><td>customer_id</td><td>Identificador único do cliente</td><td>Categórica Nominal</td></tr>\n",
    "    <tr><td>customer_unique_id</td><td>Identificador único de algum documento do cliente</td><td>Categórica Nominal</td></tr>\n",
    "    <tr><td>customer_zip_code_prefix</td><td>Código postal</td><td>Categórica Nominal</td></tr>\n",
    "    <tr><td>customer_city</td><td>Cidade onde reside o cliente</td><td>Categórica Nominal</td></tr>\n",
    "    <tr><td>customer_state</td><td>Estado onde reside o cliente</td><td>Categórica Nominal</td></tr>\n",
    "</table>\n",
    "\n",
    "\n",
    "<h3>Order Items</h3>\n",
    "<table>\n",
    "    <tr><th>Campo</th><th>Descrição</th><th>Tipo de Variável</th></tr>\n",
    "    <tr><td>order_id</td><td>Identificador único do pedido</td><td>Categórica Nominal</td></tr>\n",
    "    <tr><td>order_item_id</td><td>Identificador númerico referente ao item no pedido</td><td>Categórica Nominal</td></tr>\n",
    "    <tr><td>product_id</td><td>Identificador único do produto</td><td>Categórica Nominal</td></tr>\n",
    "    <tr><td>seller_id</td><td>Identificador único do vendedor</td><td>Categórica Nominal</td></tr>\n",
    "    <tr><td>shipping_limit_date</td><td>Data limite de entrega</td><td>Numérica Contínua</td></tr>\n",
    "    <tr><td>price</td><td>Preço do item no pedido</td><td>Numérica Contínua</td></tr>\n",
    "    <tr><td>freight_value</td><td>Valor do frete cobrado</td><td>Numérica Contínua</td></tr>\n",
    "</table>\n",
    "\n",
    "\n",
    "<h3>Order Payments</h3>\n",
    "<table>\n",
    "    <tr><th>Campo</th><th>Descrição</th><th>Tipo de Variável</th></tr>\n",
    "    <tr><td>order_id</td><td>Identificador único do pedido</td><td>Categórica Nominal</td></tr>\n",
    "    <tr><td>payment_sequential</td><td>Identificador sequencial único do pagamento</td><td>Categórica Nominal</td></tr>\n",
    "    <tr><td>payment_type</td><td>Tipo de pagamento</td><td>Categórica Nominal</td></tr>\n",
    "    <tr><td>payment_installments</td><td>Número de parcelas</td><td>Numérica Discreta</td></tr>\n",
    "    <tr><td>payment_value</td><td>Valor total do pagamento</td><td>Numérica Contínua</td></tr>\n",
    "</table>\n",
    "\n",
    "\n",
    "<h3>Orders</h3>\n",
    "<table>\n",
    "    <tr><th>Campo</th><th>Descrição</th><th>Tipo de Variável</th></tr>\n",
    "    <tr><td>customer_id</td><td>Identificador único do cliente</td><td>Categórica Nominal</td></tr>\n",
    "    <tr><td>order_status</td><td>Status do pedido</td><td>Categórica Nominal</td></tr>\n",
    "    <tr><td>order_purchase_timestamp</td><td>Data de quando o pedido foi feito</td><td>Numérica Contínua</td></tr>\n",
    "    <tr><td>order_approved_at</td><td>Data de quando o pedido foi aprovado</td><td>Numérica Contínua</td></tr>\n",
    "    <tr><td>order_delivered_carrier_date</td><td>Data de quando foi entregue a transportadora</td><td>Numérica Contínua</td></tr>\n",
    "    <tr><td>order_delivered_customer_date</td><td>Data de quando foi entregue ao cliente</td><td>Numérica Contínua</td></tr>\n",
    "    <tr><td>order_estimated_delivery_date</td><td>Data estimada para entrega</td><td>Numérica Contínua</td></tr>\n",
    "</table>\n",
    "\n",
    "\n",
    "<h3>Products</h3>\n",
    "<table>\n",
    "    <tr><th>Campo</th><th>Descrição</th><th>Tipo de Variável</th></tr>    \n",
    "    <tr><td>product_id</td><td>Identificador único do produto</td><td>Categórica Nominal</td></tr>\n",
    "    <tr><td>product_category_name</td><td>Categoria do produto</td><td>Categórica Nominal</td></tr>\n",
    "    <tr><td>product_name_lenght</td><td>Número de caracteres referentes ao nome</td><td>Numérica Discreta</td></tr>\n",
    "    <tr><td>product_description_lenght</td><td>Número de caracteres referentes a descrição</td><td>Numérica Discreta</td></tr>\n",
    "    <tr><td>product_photos_qty</td><td>Quantidade de fotos</td><td>Numérica Discreta</td></tr>\n",
    "    <tr><td>product_weight_g</td><td>Peso em gramas</td><td>Numérica Contínua</td></tr>\n",
    "    <tr><td>product_length_cm</td><td>Comprimento em centímetros</td><td>Numérica Contínua</td></tr>\n",
    "    <tr><td>product_height_cm</td><td>Altura em centímetros</td><td>Numérica Contínua</td></tr>\n",
    "    <tr><td>product_width_cm</td><td>Largura em centímetros</td><td>Numérica Contínua</td></tr>\n",
    "</table>\n",
    "\n",
    "\n",
    "<h3>Sellers</h3>\n",
    "<table>\n",
    "    <tr><th>Campo</th><th>Descrição</th><th>Tipo de Variável</th></tr>    \n",
    "    <tr><td>seller_id</td><td>Identificador único do vendedor</td><td>Categórica Nominal</td></tr>\n",
    "    <tr><td>seller_zip_code_prefix</td><td>Código postal do vendedor</td><td>Categórica Nominal</td></tr>\n",
    "    <tr><td>seller_city</td><td>Cidade onde o vendedor reside</td><td>Categórica Nominal</td></tr>\n",
    "    <tr><td>seller_state</td><td>Estado onde o vendedor reside</td><td>Categórica Nominal</td></tr>    \n",
    "</table>"
   ]
  },
  {
   "cell_type": "markdown",
   "id": "98d7759a",
   "metadata": {},
   "source": [
    "<a id ='23'></a>\n",
    "<h4>2.3. Analise Preliminar</h4>"
   ]
  },
  {
   "cell_type": "code",
   "execution_count": 4,
   "id": "88bd3bff",
   "metadata": {},
   "outputs": [
    {
     "data": {
      "text/html": [
       "<div>\n",
       "<style scoped>\n",
       "    .dataframe tbody tr th:only-of-type {\n",
       "        vertical-align: middle;\n",
       "    }\n",
       "\n",
       "    .dataframe tbody tr th {\n",
       "        vertical-align: top;\n",
       "    }\n",
       "\n",
       "    .dataframe thead th {\n",
       "        text-align: right;\n",
       "    }\n",
       "</style>\n",
       "<table border=\"1\" class=\"dataframe\">\n",
       "  <thead>\n",
       "    <tr style=\"text-align: right;\">\n",
       "      <th></th>\n",
       "      <th>customer_id</th>\n",
       "      <th>customer_unique_id</th>\n",
       "      <th>customer_zip_code_prefix</th>\n",
       "      <th>customer_city</th>\n",
       "      <th>customer_state</th>\n",
       "    </tr>\n",
       "  </thead>\n",
       "  <tbody>\n",
       "    <tr>\n",
       "      <th>0</th>\n",
       "      <td>06b8999e2fba1a1fbc88172c00ba8bc7</td>\n",
       "      <td>861eff4711a542e4b93843c6dd7febb0</td>\n",
       "      <td>14409</td>\n",
       "      <td>franca</td>\n",
       "      <td>SP</td>\n",
       "    </tr>\n",
       "    <tr>\n",
       "      <th>1</th>\n",
       "      <td>18955e83d337fd6b2def6b18a428ac77</td>\n",
       "      <td>290c77bc529b7ac935b93aa66c333dc3</td>\n",
       "      <td>9790</td>\n",
       "      <td>sao bernardo do campo</td>\n",
       "      <td>SP</td>\n",
       "    </tr>\n",
       "    <tr>\n",
       "      <th>2</th>\n",
       "      <td>4e7b3e00288586ebd08712fdd0374a03</td>\n",
       "      <td>060e732b5b29e8181a18229c7b0b2b5e</td>\n",
       "      <td>1151</td>\n",
       "      <td>sao paulo</td>\n",
       "      <td>SP</td>\n",
       "    </tr>\n",
       "  </tbody>\n",
       "</table>\n",
       "</div>"
      ],
      "text/plain": [
       "                        customer_id                customer_unique_id  \\\n",
       "0  06b8999e2fba1a1fbc88172c00ba8bc7  861eff4711a542e4b93843c6dd7febb0   \n",
       "1  18955e83d337fd6b2def6b18a428ac77  290c77bc529b7ac935b93aa66c333dc3   \n",
       "2  4e7b3e00288586ebd08712fdd0374a03  060e732b5b29e8181a18229c7b0b2b5e   \n",
       "\n",
       "   customer_zip_code_prefix          customer_city customer_state  \n",
       "0                     14409                 franca             SP  \n",
       "1                      9790  sao bernardo do campo             SP  \n",
       "2                      1151              sao paulo             SP  "
      ]
     },
     "execution_count": 4,
     "metadata": {},
     "output_type": "execute_result"
    }
   ],
   "source": [
    "## Cliente\n",
    "df_customers.head(3)"
   ]
  },
  {
   "cell_type": "code",
   "execution_count": 5,
   "id": "ac3b6039",
   "metadata": {},
   "outputs": [
    {
     "data": {
      "text/html": [
       "<div>\n",
       "<style scoped>\n",
       "    .dataframe tbody tr th:only-of-type {\n",
       "        vertical-align: middle;\n",
       "    }\n",
       "\n",
       "    .dataframe tbody tr th {\n",
       "        vertical-align: top;\n",
       "    }\n",
       "\n",
       "    .dataframe thead th {\n",
       "        text-align: right;\n",
       "    }\n",
       "</style>\n",
       "<table border=\"1\" class=\"dataframe\">\n",
       "  <thead>\n",
       "    <tr style=\"text-align: right;\">\n",
       "      <th></th>\n",
       "      <th>order_id</th>\n",
       "      <th>order_item_id</th>\n",
       "      <th>product_id</th>\n",
       "      <th>seller_id</th>\n",
       "      <th>shipping_limit_date</th>\n",
       "      <th>price</th>\n",
       "      <th>freight_value</th>\n",
       "    </tr>\n",
       "  </thead>\n",
       "  <tbody>\n",
       "    <tr>\n",
       "      <th>0</th>\n",
       "      <td>00010242fe8c5a6d1ba2dd792cb16214</td>\n",
       "      <td>1</td>\n",
       "      <td>4244733e06e7ecb4970a6e2683c13e61</td>\n",
       "      <td>48436dade18ac8b2bce089ec2a041202</td>\n",
       "      <td>2017-09-19 09:45:35</td>\n",
       "      <td>58.9</td>\n",
       "      <td>13.29</td>\n",
       "    </tr>\n",
       "    <tr>\n",
       "      <th>1</th>\n",
       "      <td>00018f77f2f0320c557190d7a144bdd3</td>\n",
       "      <td>1</td>\n",
       "      <td>e5f2d52b802189ee658865ca93d83a8f</td>\n",
       "      <td>dd7ddc04e1b6c2c614352b383efe2d36</td>\n",
       "      <td>2017-05-03 11:05:13</td>\n",
       "      <td>239.9</td>\n",
       "      <td>19.93</td>\n",
       "    </tr>\n",
       "    <tr>\n",
       "      <th>2</th>\n",
       "      <td>000229ec398224ef6ca0657da4fc703e</td>\n",
       "      <td>1</td>\n",
       "      <td>c777355d18b72b67abbeef9df44fd0fd</td>\n",
       "      <td>5b51032eddd242adc84c38acab88f23d</td>\n",
       "      <td>2018-01-18 14:48:30</td>\n",
       "      <td>199.0</td>\n",
       "      <td>17.87</td>\n",
       "    </tr>\n",
       "  </tbody>\n",
       "</table>\n",
       "</div>"
      ],
      "text/plain": [
       "                           order_id  order_item_id  \\\n",
       "0  00010242fe8c5a6d1ba2dd792cb16214              1   \n",
       "1  00018f77f2f0320c557190d7a144bdd3              1   \n",
       "2  000229ec398224ef6ca0657da4fc703e              1   \n",
       "\n",
       "                         product_id                         seller_id  \\\n",
       "0  4244733e06e7ecb4970a6e2683c13e61  48436dade18ac8b2bce089ec2a041202   \n",
       "1  e5f2d52b802189ee658865ca93d83a8f  dd7ddc04e1b6c2c614352b383efe2d36   \n",
       "2  c777355d18b72b67abbeef9df44fd0fd  5b51032eddd242adc84c38acab88f23d   \n",
       "\n",
       "   shipping_limit_date  price  freight_value  \n",
       "0  2017-09-19 09:45:35   58.9          13.29  \n",
       "1  2017-05-03 11:05:13  239.9          19.93  \n",
       "2  2018-01-18 14:48:30  199.0          17.87  "
      ]
     },
     "execution_count": 5,
     "metadata": {},
     "output_type": "execute_result"
    }
   ],
   "source": [
    "## Item de Pedido\n",
    "df_order_items.head(3)"
   ]
  },
  {
   "cell_type": "code",
   "execution_count": 6,
   "id": "10ede89d",
   "metadata": {},
   "outputs": [
    {
     "data": {
      "text/html": [
       "<div>\n",
       "<style scoped>\n",
       "    .dataframe tbody tr th:only-of-type {\n",
       "        vertical-align: middle;\n",
       "    }\n",
       "\n",
       "    .dataframe tbody tr th {\n",
       "        vertical-align: top;\n",
       "    }\n",
       "\n",
       "    .dataframe thead th {\n",
       "        text-align: right;\n",
       "    }\n",
       "</style>\n",
       "<table border=\"1\" class=\"dataframe\">\n",
       "  <thead>\n",
       "    <tr style=\"text-align: right;\">\n",
       "      <th></th>\n",
       "      <th>order_id</th>\n",
       "      <th>payment_sequential</th>\n",
       "      <th>payment_type</th>\n",
       "      <th>payment_installments</th>\n",
       "      <th>payment_value</th>\n",
       "    </tr>\n",
       "  </thead>\n",
       "  <tbody>\n",
       "    <tr>\n",
       "      <th>0</th>\n",
       "      <td>b81ef226f3fe1789b1e8b2acac839d17</td>\n",
       "      <td>1</td>\n",
       "      <td>credit_card</td>\n",
       "      <td>8</td>\n",
       "      <td>99.33</td>\n",
       "    </tr>\n",
       "    <tr>\n",
       "      <th>1</th>\n",
       "      <td>a9810da82917af2d9aefd1278f1dcfa0</td>\n",
       "      <td>1</td>\n",
       "      <td>credit_card</td>\n",
       "      <td>1</td>\n",
       "      <td>24.39</td>\n",
       "    </tr>\n",
       "    <tr>\n",
       "      <th>2</th>\n",
       "      <td>25e8ea4e93396b6fa0d3dd708e76c1bd</td>\n",
       "      <td>1</td>\n",
       "      <td>credit_card</td>\n",
       "      <td>1</td>\n",
       "      <td>65.71</td>\n",
       "    </tr>\n",
       "  </tbody>\n",
       "</table>\n",
       "</div>"
      ],
      "text/plain": [
       "                           order_id  payment_sequential payment_type  \\\n",
       "0  b81ef226f3fe1789b1e8b2acac839d17                   1  credit_card   \n",
       "1  a9810da82917af2d9aefd1278f1dcfa0                   1  credit_card   \n",
       "2  25e8ea4e93396b6fa0d3dd708e76c1bd                   1  credit_card   \n",
       "\n",
       "   payment_installments  payment_value  \n",
       "0                     8          99.33  \n",
       "1                     1          24.39  \n",
       "2                     1          65.71  "
      ]
     },
     "execution_count": 6,
     "metadata": {},
     "output_type": "execute_result"
    }
   ],
   "source": [
    "## Pagamento de Pedido\n",
    "df_order_payments.head(3)"
   ]
  },
  {
   "cell_type": "code",
   "execution_count": 7,
   "id": "016b48d8",
   "metadata": {},
   "outputs": [
    {
     "data": {
      "text/html": [
       "<div>\n",
       "<style scoped>\n",
       "    .dataframe tbody tr th:only-of-type {\n",
       "        vertical-align: middle;\n",
       "    }\n",
       "\n",
       "    .dataframe tbody tr th {\n",
       "        vertical-align: top;\n",
       "    }\n",
       "\n",
       "    .dataframe thead th {\n",
       "        text-align: right;\n",
       "    }\n",
       "</style>\n",
       "<table border=\"1\" class=\"dataframe\">\n",
       "  <thead>\n",
       "    <tr style=\"text-align: right;\">\n",
       "      <th></th>\n",
       "      <th>order_id</th>\n",
       "      <th>customer_id</th>\n",
       "      <th>order_status</th>\n",
       "      <th>order_purchase_timestamp</th>\n",
       "      <th>order_approved_at</th>\n",
       "      <th>order_delivered_carrier_date</th>\n",
       "      <th>order_delivered_customer_date</th>\n",
       "      <th>order_estimated_delivery_date</th>\n",
       "    </tr>\n",
       "  </thead>\n",
       "  <tbody>\n",
       "    <tr>\n",
       "      <th>0</th>\n",
       "      <td>e481f51cbdc54678b7cc49136f2d6af7</td>\n",
       "      <td>9ef432eb6251297304e76186b10a928d</td>\n",
       "      <td>delivered</td>\n",
       "      <td>2017-10-02 10:56:33</td>\n",
       "      <td>2017-10-02 11:07:15</td>\n",
       "      <td>2017-10-04 19:55:00</td>\n",
       "      <td>2017-10-10 21:25:13</td>\n",
       "      <td>2017-10-18 00:00:00</td>\n",
       "    </tr>\n",
       "    <tr>\n",
       "      <th>1</th>\n",
       "      <td>53cdb2fc8bc7dce0b6741e2150273451</td>\n",
       "      <td>b0830fb4747a6c6d20dea0b8c802d7ef</td>\n",
       "      <td>delivered</td>\n",
       "      <td>2018-07-24 20:41:37</td>\n",
       "      <td>2018-07-26 03:24:27</td>\n",
       "      <td>2018-07-26 14:31:00</td>\n",
       "      <td>2018-08-07 15:27:45</td>\n",
       "      <td>2018-08-13 00:00:00</td>\n",
       "    </tr>\n",
       "    <tr>\n",
       "      <th>2</th>\n",
       "      <td>47770eb9100c2d0c44946d9cf07ec65d</td>\n",
       "      <td>41ce2a54c0b03bf3443c3d931a367089</td>\n",
       "      <td>delivered</td>\n",
       "      <td>2018-08-08 08:38:49</td>\n",
       "      <td>2018-08-08 08:55:23</td>\n",
       "      <td>2018-08-08 13:50:00</td>\n",
       "      <td>2018-08-17 18:06:29</td>\n",
       "      <td>2018-09-04 00:00:00</td>\n",
       "    </tr>\n",
       "  </tbody>\n",
       "</table>\n",
       "</div>"
      ],
      "text/plain": [
       "                           order_id                       customer_id  \\\n",
       "0  e481f51cbdc54678b7cc49136f2d6af7  9ef432eb6251297304e76186b10a928d   \n",
       "1  53cdb2fc8bc7dce0b6741e2150273451  b0830fb4747a6c6d20dea0b8c802d7ef   \n",
       "2  47770eb9100c2d0c44946d9cf07ec65d  41ce2a54c0b03bf3443c3d931a367089   \n",
       "\n",
       "  order_status order_purchase_timestamp    order_approved_at  \\\n",
       "0    delivered      2017-10-02 10:56:33  2017-10-02 11:07:15   \n",
       "1    delivered      2018-07-24 20:41:37  2018-07-26 03:24:27   \n",
       "2    delivered      2018-08-08 08:38:49  2018-08-08 08:55:23   \n",
       "\n",
       "  order_delivered_carrier_date order_delivered_customer_date  \\\n",
       "0          2017-10-04 19:55:00           2017-10-10 21:25:13   \n",
       "1          2018-07-26 14:31:00           2018-08-07 15:27:45   \n",
       "2          2018-08-08 13:50:00           2018-08-17 18:06:29   \n",
       "\n",
       "  order_estimated_delivery_date  \n",
       "0           2017-10-18 00:00:00  \n",
       "1           2018-08-13 00:00:00  \n",
       "2           2018-09-04 00:00:00  "
      ]
     },
     "execution_count": 7,
     "metadata": {},
     "output_type": "execute_result"
    }
   ],
   "source": [
    "## Pedido\n",
    "df_orders.head(3)"
   ]
  },
  {
   "cell_type": "code",
   "execution_count": 8,
   "id": "e64a3434",
   "metadata": {},
   "outputs": [
    {
     "data": {
      "text/html": [
       "<div>\n",
       "<style scoped>\n",
       "    .dataframe tbody tr th:only-of-type {\n",
       "        vertical-align: middle;\n",
       "    }\n",
       "\n",
       "    .dataframe tbody tr th {\n",
       "        vertical-align: top;\n",
       "    }\n",
       "\n",
       "    .dataframe thead th {\n",
       "        text-align: right;\n",
       "    }\n",
       "</style>\n",
       "<table border=\"1\" class=\"dataframe\">\n",
       "  <thead>\n",
       "    <tr style=\"text-align: right;\">\n",
       "      <th></th>\n",
       "      <th>product_id</th>\n",
       "      <th>product_category_name</th>\n",
       "      <th>product_name_lenght</th>\n",
       "      <th>product_description_lenght</th>\n",
       "      <th>product_photos_qty</th>\n",
       "      <th>product_weight_g</th>\n",
       "      <th>product_length_cm</th>\n",
       "      <th>product_height_cm</th>\n",
       "      <th>product_width_cm</th>\n",
       "    </tr>\n",
       "  </thead>\n",
       "  <tbody>\n",
       "    <tr>\n",
       "      <th>0</th>\n",
       "      <td>1e9e8ef04dbcff4541ed26657ea517e5</td>\n",
       "      <td>perfumaria</td>\n",
       "      <td>40.0</td>\n",
       "      <td>287.0</td>\n",
       "      <td>1.0</td>\n",
       "      <td>225.0</td>\n",
       "      <td>16.0</td>\n",
       "      <td>10.0</td>\n",
       "      <td>14.0</td>\n",
       "    </tr>\n",
       "    <tr>\n",
       "      <th>1</th>\n",
       "      <td>3aa071139cb16b67ca9e5dea641aaa2f</td>\n",
       "      <td>artes</td>\n",
       "      <td>44.0</td>\n",
       "      <td>276.0</td>\n",
       "      <td>1.0</td>\n",
       "      <td>1000.0</td>\n",
       "      <td>30.0</td>\n",
       "      <td>18.0</td>\n",
       "      <td>20.0</td>\n",
       "    </tr>\n",
       "    <tr>\n",
       "      <th>2</th>\n",
       "      <td>96bd76ec8810374ed1b65e291975717f</td>\n",
       "      <td>esporte_lazer</td>\n",
       "      <td>46.0</td>\n",
       "      <td>250.0</td>\n",
       "      <td>1.0</td>\n",
       "      <td>154.0</td>\n",
       "      <td>18.0</td>\n",
       "      <td>9.0</td>\n",
       "      <td>15.0</td>\n",
       "    </tr>\n",
       "  </tbody>\n",
       "</table>\n",
       "</div>"
      ],
      "text/plain": [
       "                         product_id product_category_name  \\\n",
       "0  1e9e8ef04dbcff4541ed26657ea517e5            perfumaria   \n",
       "1  3aa071139cb16b67ca9e5dea641aaa2f                 artes   \n",
       "2  96bd76ec8810374ed1b65e291975717f         esporte_lazer   \n",
       "\n",
       "   product_name_lenght  product_description_lenght  product_photos_qty  \\\n",
       "0                 40.0                       287.0                 1.0   \n",
       "1                 44.0                       276.0                 1.0   \n",
       "2                 46.0                       250.0                 1.0   \n",
       "\n",
       "   product_weight_g  product_length_cm  product_height_cm  product_width_cm  \n",
       "0             225.0               16.0               10.0              14.0  \n",
       "1            1000.0               30.0               18.0              20.0  \n",
       "2             154.0               18.0                9.0              15.0  "
      ]
     },
     "execution_count": 8,
     "metadata": {},
     "output_type": "execute_result"
    }
   ],
   "source": [
    "## Produtos\n",
    "df_products.head(3)"
   ]
  },
  {
   "cell_type": "code",
   "execution_count": 9,
   "id": "756f51af",
   "metadata": {},
   "outputs": [
    {
     "data": {
      "text/html": [
       "<div>\n",
       "<style scoped>\n",
       "    .dataframe tbody tr th:only-of-type {\n",
       "        vertical-align: middle;\n",
       "    }\n",
       "\n",
       "    .dataframe tbody tr th {\n",
       "        vertical-align: top;\n",
       "    }\n",
       "\n",
       "    .dataframe thead th {\n",
       "        text-align: right;\n",
       "    }\n",
       "</style>\n",
       "<table border=\"1\" class=\"dataframe\">\n",
       "  <thead>\n",
       "    <tr style=\"text-align: right;\">\n",
       "      <th></th>\n",
       "      <th>seller_id</th>\n",
       "      <th>seller_zip_code_prefix</th>\n",
       "      <th>seller_city</th>\n",
       "      <th>seller_state</th>\n",
       "    </tr>\n",
       "  </thead>\n",
       "  <tbody>\n",
       "    <tr>\n",
       "      <th>0</th>\n",
       "      <td>3442f8959a84dea7ee197c632cb2df15</td>\n",
       "      <td>13023</td>\n",
       "      <td>campinas</td>\n",
       "      <td>SP</td>\n",
       "    </tr>\n",
       "    <tr>\n",
       "      <th>1</th>\n",
       "      <td>d1b65fc7debc3361ea86b5f14c68d2e2</td>\n",
       "      <td>13844</td>\n",
       "      <td>mogi guacu</td>\n",
       "      <td>SP</td>\n",
       "    </tr>\n",
       "    <tr>\n",
       "      <th>2</th>\n",
       "      <td>ce3ad9de960102d0677a81f5d0bb7b2d</td>\n",
       "      <td>20031</td>\n",
       "      <td>rio de janeiro</td>\n",
       "      <td>RJ</td>\n",
       "    </tr>\n",
       "  </tbody>\n",
       "</table>\n",
       "</div>"
      ],
      "text/plain": [
       "                          seller_id  seller_zip_code_prefix     seller_city  \\\n",
       "0  3442f8959a84dea7ee197c632cb2df15                   13023        campinas   \n",
       "1  d1b65fc7debc3361ea86b5f14c68d2e2                   13844      mogi guacu   \n",
       "2  ce3ad9de960102d0677a81f5d0bb7b2d                   20031  rio de janeiro   \n",
       "\n",
       "  seller_state  \n",
       "0           SP  \n",
       "1           SP  \n",
       "2           RJ  "
      ]
     },
     "execution_count": 9,
     "metadata": {},
     "output_type": "execute_result"
    }
   ],
   "source": [
    "## Vendedores\n",
    "df_sellers.head(3)"
   ]
  },
  {
   "cell_type": "markdown",
   "id": "534ffba6",
   "metadata": {},
   "source": [
    "<a id = '3'></a>\n",
    "<h3>3. Informação dos dataframes</h3>"
   ]
  },
  {
   "cell_type": "markdown",
   "id": "20d7b5ca",
   "metadata": {},
   "source": [
    "<a id ='31'></a>\n",
    "<h4>3.1. Dimensão</h4>"
   ]
  },
  {
   "cell_type": "code",
   "execution_count": 10,
   "id": "a6ceb2f1",
   "metadata": {},
   "outputs": [
    {
     "name": "stdout",
     "output_type": "stream",
     "text": [
      "Dimensão do dataframe \"df_cutomers\": (99441, 5)\n",
      "Dimensão do dataframe \"df_order_items\": (112650, 7)\n",
      "Dimensão do dataframe \"df_order_payments\": (103886, 5)\n",
      "Dimensão do dataframe \"df_orders\": (99441, 8)\n",
      "Dimensão do dataframe \"df_products\": (32951, 9)\n",
      "Dimensão do dataframe \"df_sellers\": (3095, 4)\n"
     ]
    }
   ],
   "source": [
    "## Dimensão do dataframe\n",
    "print('Dimensão do dataframe \"df_cutomers\":',df_customers.shape)\n",
    "print('Dimensão do dataframe \"df_order_items\":', df_order_items.shape)\n",
    "print('Dimensão do dataframe \"df_order_payments\":',df_order_payments.shape)\n",
    "print('Dimensão do dataframe \"df_orders\":',df_orders.shape)\n",
    "print('Dimensão do dataframe \"df_products\":',df_products.shape)\n",
    "print('Dimensão do dataframe \"df_sellers\":',df_sellers.shape)"
   ]
  },
  {
   "cell_type": "markdown",
   "id": "6710bad7",
   "metadata": {},
   "source": [
    "<a id ='32'></a>\n",
    "<h4>3.2. Dados Generalistas</h4>"
   ]
  },
  {
   "cell_type": "code",
   "execution_count": 11,
   "id": "247048b5",
   "metadata": {},
   "outputs": [
    {
     "name": "stdout",
     "output_type": "stream",
     "text": [
      "<class 'pandas.core.frame.DataFrame'>\n",
      "RangeIndex: 99441 entries, 0 to 99440\n",
      "Data columns (total 5 columns):\n",
      " #   Column                    Non-Null Count  Dtype \n",
      "---  ------                    --------------  ----- \n",
      " 0   customer_id               99441 non-null  object\n",
      " 1   customer_unique_id        99441 non-null  object\n",
      " 2   customer_zip_code_prefix  99441 non-null  int64 \n",
      " 3   customer_city             99441 non-null  object\n",
      " 4   customer_state            99441 non-null  object\n",
      "dtypes: int64(1), object(4)\n",
      "memory usage: 3.8+ MB\n"
     ]
    }
   ],
   "source": [
    "df_customers.info()"
   ]
  },
  {
   "cell_type": "code",
   "execution_count": 12,
   "id": "ca7d9a47",
   "metadata": {},
   "outputs": [
    {
     "name": "stdout",
     "output_type": "stream",
     "text": [
      "<class 'pandas.core.frame.DataFrame'>\n",
      "RangeIndex: 112650 entries, 0 to 112649\n",
      "Data columns (total 7 columns):\n",
      " #   Column               Non-Null Count   Dtype  \n",
      "---  ------               --------------   -----  \n",
      " 0   order_id             112650 non-null  object \n",
      " 1   order_item_id        112650 non-null  int64  \n",
      " 2   product_id           112650 non-null  object \n",
      " 3   seller_id            112650 non-null  object \n",
      " 4   shipping_limit_date  112650 non-null  object \n",
      " 5   price                112650 non-null  float64\n",
      " 6   freight_value        112650 non-null  float64\n",
      "dtypes: float64(2), int64(1), object(4)\n",
      "memory usage: 6.0+ MB\n"
     ]
    }
   ],
   "source": [
    "df_order_items.info()"
   ]
  },
  {
   "cell_type": "code",
   "execution_count": 13,
   "id": "d2828ebd",
   "metadata": {},
   "outputs": [
    {
     "name": "stdout",
     "output_type": "stream",
     "text": [
      "<class 'pandas.core.frame.DataFrame'>\n",
      "RangeIndex: 103886 entries, 0 to 103885\n",
      "Data columns (total 5 columns):\n",
      " #   Column                Non-Null Count   Dtype  \n",
      "---  ------                --------------   -----  \n",
      " 0   order_id              103886 non-null  object \n",
      " 1   payment_sequential    103886 non-null  int64  \n",
      " 2   payment_type          103886 non-null  object \n",
      " 3   payment_installments  103886 non-null  int64  \n",
      " 4   payment_value         103886 non-null  float64\n",
      "dtypes: float64(1), int64(2), object(2)\n",
      "memory usage: 4.0+ MB\n"
     ]
    }
   ],
   "source": [
    "df_order_payments.info()"
   ]
  },
  {
   "cell_type": "code",
   "execution_count": 14,
   "id": "f7cce1e8",
   "metadata": {},
   "outputs": [
    {
     "name": "stdout",
     "output_type": "stream",
     "text": [
      "<class 'pandas.core.frame.DataFrame'>\n",
      "RangeIndex: 99441 entries, 0 to 99440\n",
      "Data columns (total 8 columns):\n",
      " #   Column                         Non-Null Count  Dtype \n",
      "---  ------                         --------------  ----- \n",
      " 0   order_id                       99441 non-null  object\n",
      " 1   customer_id                    99441 non-null  object\n",
      " 2   order_status                   99441 non-null  object\n",
      " 3   order_purchase_timestamp       99441 non-null  object\n",
      " 4   order_approved_at              99281 non-null  object\n",
      " 5   order_delivered_carrier_date   97658 non-null  object\n",
      " 6   order_delivered_customer_date  96476 non-null  object\n",
      " 7   order_estimated_delivery_date  99441 non-null  object\n",
      "dtypes: object(8)\n",
      "memory usage: 6.1+ MB\n"
     ]
    }
   ],
   "source": [
    "df_orders.info()"
   ]
  },
  {
   "cell_type": "code",
   "execution_count": 15,
   "id": "cfc7dae1",
   "metadata": {},
   "outputs": [
    {
     "name": "stdout",
     "output_type": "stream",
     "text": [
      "<class 'pandas.core.frame.DataFrame'>\n",
      "RangeIndex: 32951 entries, 0 to 32950\n",
      "Data columns (total 9 columns):\n",
      " #   Column                      Non-Null Count  Dtype  \n",
      "---  ------                      --------------  -----  \n",
      " 0   product_id                  32951 non-null  object \n",
      " 1   product_category_name       32341 non-null  object \n",
      " 2   product_name_lenght         32341 non-null  float64\n",
      " 3   product_description_lenght  32341 non-null  float64\n",
      " 4   product_photos_qty          32341 non-null  float64\n",
      " 5   product_weight_g            32949 non-null  float64\n",
      " 6   product_length_cm           32949 non-null  float64\n",
      " 7   product_height_cm           32949 non-null  float64\n",
      " 8   product_width_cm            32949 non-null  float64\n",
      "dtypes: float64(7), object(2)\n",
      "memory usage: 2.3+ MB\n"
     ]
    }
   ],
   "source": [
    "df_products.info()"
   ]
  },
  {
   "cell_type": "code",
   "execution_count": 16,
   "id": "e17bae0f",
   "metadata": {},
   "outputs": [
    {
     "name": "stdout",
     "output_type": "stream",
     "text": [
      "<class 'pandas.core.frame.DataFrame'>\n",
      "RangeIndex: 3095 entries, 0 to 3094\n",
      "Data columns (total 4 columns):\n",
      " #   Column                  Non-Null Count  Dtype \n",
      "---  ------                  --------------  ----- \n",
      " 0   seller_id               3095 non-null   object\n",
      " 1   seller_zip_code_prefix  3095 non-null   int64 \n",
      " 2   seller_city             3095 non-null   object\n",
      " 3   seller_state            3095 non-null   object\n",
      "dtypes: int64(1), object(3)\n",
      "memory usage: 96.8+ KB\n"
     ]
    }
   ],
   "source": [
    "df_sellers.info()"
   ]
  },
  {
   "cell_type": "code",
   "execution_count": null,
   "id": "d158c7c3",
   "metadata": {},
   "outputs": [],
   "source": []
  }
 ],
 "metadata": {
  "kernelspec": {
   "display_name": "Python 3 (ipykernel)",
   "language": "python",
   "name": "python3"
  },
  "language_info": {
   "codemirror_mode": {
    "name": "ipython",
    "version": 3
   },
   "file_extension": ".py",
   "mimetype": "text/x-python",
   "name": "python",
   "nbconvert_exporter": "python",
   "pygments_lexer": "ipython3",
   "version": "3.9.12"
  }
 },
 "nbformat": 4,
 "nbformat_minor": 5
}
